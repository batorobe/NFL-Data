{
 "cells": [
  {
   "cell_type": "markdown",
   "metadata": {},
   "source": [
    "\n",
    "\n",
    "Specifics: It is straightforward to calculate player speed and acceleration metrics using player tracking data. Beyond “fastest speed,” it is less obvious how these metrics can be useful for teams. This theme challenges you to: \n",
    "\n",
    "-Identify players who are most effective at using speed on the field.\n",
    "*Find Top End Speed, Average Speed, Top End Acceleration, Average Acceleration for each offensive skill position/ DB\n",
    "-Identify how players maintain speed throughout a game.\n",
    "*Speed vs route run (9 route tree)\n",
    "*Average speed per route run as game progresses\n",
    "\n",
    "-Consider what effective speed means for each position. Consider when (in a play, in a game) having speed is most imperative to successful play.\n",
    "*HYPO: Speed most important on go routes\n",
    "\n",
    "-Consider external factors to player speed, including game conditions/surface, weather, opponent, as well as within-game factors, including previous player work-load, opponent, play type, play direction, etc.\n"
   ]
  },
  {
   "cell_type": "code",
   "execution_count": 1,
   "metadata": {
    "collapsed": false
   },
   "outputs": [],
   "source": [
    "import pandas as pd\n",
    "import numpy as np\n",
    "import glob\n",
    "def displayNameFix(name):\n",
    "    split = name.split(' ')\n",
    "    return split[0][0] + '. ' + split[1]\n",
    "\n",
    "\n",
    "\n",
    "path =r'C:\\Users\\udirab\\Documents\\NFL-Data\\Data\\\\'\n",
    "allFiles = glob.glob(path + \"tracking*\")\n",
    "list_ = []\n",
    "\n",
    "for file_ in allFiles:\n",
    "    df = pd.read_csv(file_,index_col=None, header=0)\n",
    "    list_.append(df)\n",
    "\n",
    "csv = pd.concat(list_, axis = 0, ignore_index = True)\n",
    "#csv['displayNameAbbr'] = csv['displayName'].apply(lambda x: displayNameFix(x))"
   ]
  },
  {
   "cell_type": "code",
   "execution_count": 2,
   "metadata": {
    "collapsed": false
   },
   "outputs": [],
   "source": [
    "players =  pd.read_csv(\"C:\\Users\\udirab\\Documents\\NFL-Data\\Data\\players.csv\")\n",
    "games =  pd.read_csv(\"C:\\Users\\udirab\\Documents\\NFL-Data\\Data\\games.csv\")\n",
    "plays = pd.read_csv(\"C:\\Users\\udirab\\Documents\\NFL-Data\\Data\\plays.csv\")\n",
    "\n",
    "dbs = players[players['PositionAbbr'].isin(['CB', 'SS', 'FS', 'DB'])]\n",
    "lbs = players[players['PositionAbbr'].isin(['ILB', 'MLB', 'LB', 'OLB'])]\n",
    "off_skill = players[players['PositionAbbr'].isin(['TE', 'WR', 'RB', 'FB'])]\n",
    "los = players[players['PositionAbbr'] == 'C']\n",
    "qbs = players[players['PositionAbbr'] == 'QB']"
   ]
  },
  {
   "cell_type": "code",
   "execution_count": 187,
   "metadata": {
    "collapsed": true
   },
   "outputs": [],
   "source": [
    "def play_subset(playId):\n",
    "    pass_forward= csv[csv['gameId'] == 2017090700][csv['playId'] == playId][csv['event'] == 'pass_forward'].time.iloc[0]\n",
    "    pass_arrived = csv[csv['gameId'] == 2017090700][csv['playId'] == playId][csv['event'] == 'pass_arrived'].time.iloc[0]\n",
    "    o_subset  = csv[csv['gameId'] == 2017090700][csv['playId'] == playId][csv['nflId'].isin(off_skill['nflId'])][csv['time'] < pass_arrived]\n",
    "    qb_subset = csv[csv['gameId'] == 2017090700][csv['playId'] == playId][csv['nflId'].isin(qbs['nflId'])][csv['time'] < pass_forward]\n",
    "    db_subset  = csv[csv['gameId'] == 2017090700][csv['playId'] == playId][csv['nflId'].isin(dbs['nflId'])][csv['time'] < pass_forward]\n",
    "    lb_subset  = csv[csv['gameId'] == 2017090700][csv['playId'] == playId][csv['nflId'].isin(lbs['nflId'])][csv['time'] < pass_forward]\n",
    "    los = csv[csv['gameId'] == 2017090700][csv['playId'] == playId][csv['displayName'] == 'football'][csv['time'] < pass_forward]\n",
    "    return [pass_forward, pass_arrived, o_subset, qb_subset, db_subset, lb_subset, los]"
   ]
  },
  {
   "cell_type": "code",
   "execution_count": 145,
   "metadata": {
    "collapsed": false,
    "scrolled": true
   },
   "outputs": [
    {
     "name": "stdout",
     "output_type": "stream",
     "text": [
      "                        time      x      y     s   dis     dir event  \\\n",
      "170279  2017-09-08T02:43:43Z  87.29  13.88  0.01  0.00  114.55   NaN   \n",
      "170285  2017-09-08T02:43:44Z  87.29  13.88  0.01  0.00   92.37   NaN   \n",
      "170295  2017-09-08T02:43:45Z  87.30  13.88  1.32  0.00  313.54   NaN   \n",
      "170305  2017-09-08T02:43:46Z  85.26  15.92  4.41  0.50  330.28   NaN   \n",
      "170315  2017-09-08T02:43:47Z  83.26  21.46  6.58  0.69  351.26   NaN   \n",
      "170325  2017-09-08T02:43:48Z  83.21  28.73  6.49  0.71    0.32   NaN   \n",
      "170335  2017-09-08T02:43:49Z  83.23  34.25  3.92  0.38  355.95   NaN   \n",
      "\n",
      "            nflId    displayName  jerseyNumber  team  frame.id      gameId  \\\n",
      "170279  2550272.0  Albert Wilson          12.0  away         1  2017090700   \n",
      "170285  2550272.0  Albert Wilson          12.0  away         7  2017090700   \n",
      "170295  2550272.0  Albert Wilson          12.0  away        17  2017090700   \n",
      "170305  2550272.0  Albert Wilson          12.0  away        27  2017090700   \n",
      "170315  2550272.0  Albert Wilson          12.0  away        37  2017090700   \n",
      "170325  2550272.0  Albert Wilson          12.0  away        47  2017090700   \n",
      "170335  2550272.0  Albert Wilson          12.0  away        57  2017090700   \n",
      "\n",
      "        playId  Acceleration  \n",
      "170279    2756          0.00  \n",
      "170285    2756          1.31  \n",
      "170295    2756          3.09  \n",
      "170305    2756          2.17  \n",
      "170315    2756         -0.09  \n",
      "170325    2756         -2.57  \n",
      "170335    2756           NaN  \n"
     ]
    },
    {
     "name": "stderr",
     "output_type": "stream",
     "text": [
      "C:\\Users\\user.user-PC\\Anaconda3\\lib\\site-packages\\ipykernel_launcher.py:3: SettingWithCopyWarning: \n",
      "A value is trying to be set on a copy of a slice from a DataFrame.\n",
      "Try using .loc[row_indexer,col_indexer] = value instead\n",
      "\n",
      "See the caveats in the documentation: http://pandas.pydata.org/pandas-docs/stable/indexing.html#indexing-view-versus-copy\n",
      "  This is separate from the ipykernel package so we can avoid doing imports until\n"
     ]
    }
   ],
   "source": [
    "for i, x in o_subset.groupby('displayName'):\n",
    "    x1 = x.drop_duplicates(subset = 'time')\n",
    "    x1['Acceleration'] = x1['s'].shift(-1) - x1['s'] \n",
    "    print(x1)\n",
    "    break"
   ]
  },
  {
   "cell_type": "code",
   "execution_count": null,
   "metadata": {
    "collapsed": true
   },
   "outputs": [],
   "source": [
    "def distance(sub_df):\n",
    "    begin = subset.iloc[0]\n",
    "    end = subset.iloc[-1]\n",
    "    return np.sqrt((end.x-begin.x)**2 + (end.y-begin.y)**2)\n",
    "\n",
    "#Speed in yards/sec\n",
    "def avg_speed(sub_df)\n",
    "    return sub_df.s.mean()\n",
    "\n",
    "def accel(sub_df)\n",
    "\n",
    "def route_run()"
   ]
  },
  {
   "cell_type": "code",
   "execution_count": null,
   "metadata": {
    "collapsed": true
   },
   "outputs": [],
   "source": [
    "pass_plays = []\n",
    "for i, x in plays.iterrows():\n",
    "    if('pass' in x.playDescription):\n",
    "        pass_plays.append([x.gameId, x.playId])"
   ]
  },
  {
   "cell_type": "code",
   "execution_count": null,
   "metadata": {
    "collapsed": false,
    "scrolled": true
   },
   "outputs": [
    {
     "name": "stderr",
     "output_type": "stream",
     "text": [
      "C:\\Users\\udirab\\AppData\\Local\\Continuum\\Anaconda2\\lib\\site-packages\\ipykernel\\__main__.py:13: UserWarning: Boolean Series key will be reindexed to match DataFrame index.\n"
     ]
    }
   ],
   "source": [
    "import matplotlib.pyplot as plt\n",
    "import matplotlib.cm as cm\n",
    "\n",
    "import warnings\n",
    "warnings.filterwarnings(action='once')\n",
    "\n",
    "\n",
    "    \n",
    "n = 0\n",
    "tagging = []\n",
    "for gameId, playId in pass_plays:\n",
    "    try:\n",
    "        pass_forward = csv[csv['gameId'] == gameId][csv['playId'] == playId][csv['event'] == 'pass_forward'].time.iloc[0]\n",
    "        o_subset  = csv[csv['gameId'] == gameId][csv['playId'] == playId][csv['nflId'].isin(off_skill['nflId'])][csv['time'] < pass_forward]\n",
    "        qb_pos  = csv[csv['gameId'] == gameId][csv['playId'] == playId][csv['nflId'].isin(qbs['nflId'])][csv['time'] < pass_forward]\n",
    "        los = csv[csv['gameId'] == gameId][csv['playId'] == playId][csv['displayName'] == 'football'][csv['time'] < pass_forward]\n",
    "\n",
    "        los_x = los[los['frame.id'] == 1].x.values[0]\n",
    "        los_y = range(0,54)\n",
    "        \n",
    "        f, (a0, a1) = plt.subplots(1,2, gridspec_kw = {'height_ratios':[3, 1]})\n",
    "        \n",
    "        o_subset['Tm'] = range(0,len(o_subset))\n",
    "        a0.scatter(o_subset.x, o_subset.y, c=o_subset.Tm, cmap='viridis', s = 1)\n",
    "        a0.plot([los_x]*len(los_y), los_y, color = 'blue')\n",
    "        a0.scatter(qb_pos.x, qb_pos.y, color = 'orange')\n",
    "        a0.set_xlim([0,120])\n",
    "        a0.set_ylim([0, 53.3])\n",
    "\n",
    "        for i in range(0,110, 10):\n",
    "            a0.plot([i]*53, range(0,53,1), color = 'black')\n",
    "\n",
    "        for i, x in o_subset.groupby('displayName'):\n",
    "\n",
    "            fac = 1\n",
    "            if(qb_pos.y.iloc[0] > x.y.iloc[0]):\n",
    "                fac = -1\n",
    "\n",
    "            a1.scatter(x.x, x.y, c=o_subset.Tm, cmap='viridis', s = 1)\n",
    "            a1.scatter(qb_pos.x, qb_pos.y)\n",
    "            plt.title(str(n) + ' GameId: ' + str(x.gameId.iloc[0]) + ' PlayId: ' +  str(x.playId.iloc[0]) + \n",
    "                      '\\nPlayerName + ID: ' + str(i) + ' ' + str(x.nflId.iloc[0]))\n",
    "            print('b')\n",
    "            plt.tight_layout()\n",
    "            plt.show()\n",
    "            #fname = r\"C:/Users/udirab/Documents/NFL-Data/Classification/\" + str(n) + \".png\"\n",
    "            #plt.savefig(fname, bbox_inches='tight')\n",
    "            #plt.gcf().clear()\n",
    "            break\n",
    "            tagging.append([str(x.gameId.iloc[0]) ,str(x.playId.iloc[0]) ,str(n), str(x.nflId.iloc[0]), ''])\n",
    "            n+=1\n",
    "        break\n",
    "    except Exception as e:\n",
    "        pass\n",
    "#cols = ['GameId', 'PlayId', 'PlayerName', 'ID', 'tag']\n",
    "#pd.DataFrame(tagging, columns = cols).to_csv(r'C:/Users/udirab/Documents/NFL-Data/Classification/classification.csv')"
   ]
  },
  {
   "cell_type": "code",
   "execution_count": null,
   "metadata": {
    "collapsed": false
   },
   "outputs": [],
   "source": [
    "print(csv.head())"
   ]
  },
  {
   "cell_type": "code",
   "execution_count": 68,
   "metadata": {
    "collapsed": false
   },
   "outputs": [
    {
     "name": "stderr",
     "output_type": "stream",
     "text": [
      "C:\\Users\\udirab\\AppData\\Local\\Continuum\\Anaconda2\\lib\\site-packages\\ipykernel\\__main__.py:5: UserWarning: Boolean Series key will be reindexed to match DataFrame index.\n"
     ]
    },
    {
     "data": {
      "image/png": "[encoded data removed]",
      "text/plain": [
       "<matplotlib.figure.Figure at 0x78784358>"
      ]
     },
     "metadata": {},
     "output_type": "display_data"
    }
   ],
   "source": [
    "import matplotlib.pyplot as plt\n",
    "%matplotlib inline\n",
    "playId = 73\n",
    "gameId = 2017091004\n",
    "pass_forward= csv[csv['gameId'] == gameId][csv['playId'] == playId][csv['event'] == 'pass_forward'].time.iloc[0]\n",
    "#pass_arrived = csv[csv['gameId'] == gameId][csv['playId'] == playId][csv['event'] == 'pass_arrived'].time.iloc[0]\n",
    "o_subset  = csv[csv['gameId'] == gameId][csv['playId'] == playId][csv['nflId'].isin(off_skill['nflId'])][csv['time'] < pass_forward]\n",
    "qb_subset = csv[csv['gameId'] == gameId][csv['playId'] == playId][csv['nflId'].isin(qbs['nflId'])][csv['time'] < pass_forward]\n",
    "db_subset  = csv[csv['gameId'] == gameId][csv['playId'] == playId][csv['nflId'].isin(dbs['nflId'])][csv['time'] < pass_forward]\n",
    "lb_subset  = csv[csv['gameId'] == gameId][csv['playId'] == playId][csv['nflId'].isin(lbs['nflId'])][csv['time'] < pass_forward]\n",
    "los = csv[csv['gameId'] == gameId][csv['playId'] == playId][csv['displayName'] == 'football'][csv['time'] < pass_forward]\n",
    "\n",
    "los_x = los[los['frame.id'] == 1].x.values[0]\n",
    "los_y = range(0,54)\n",
    "\n",
    "\n",
    "plt.scatter(o_subset.x, o_subset.y, color = 'red', s = 1)\n",
    "plt.scatter(qb_subset.x, qb_subset.y, color = 'green', s = 1)\n",
    "#plt.scatter(d_subset.x, d_subset.y, color = 'blue', s = 5)\n",
    "#plt.scatter(lb_subset.x, lb_subset.y, color = 'green')\n",
    "plt.plot([los_x]*len(los_y), los_y, color = 'blue')\n",
    "for i in range(0,110, 10):\n",
    "    plt.plot([i]*53, range(0,53,1), color = 'black')\n",
    "plt.xlim(0, 120)\n",
    "plt.ylim(0, 53.3)\n",
    "plt.show()"
   ]
  },
  {
   "cell_type": "code",
   "execution_count": 35,
   "metadata": {
    "collapsed": false
   },
   "outputs": [
    {
     "name": "stderr",
     "output_type": "stream",
     "text": [
      "C:\\Users\\udirab\\AppData\\Local\\Continuum\\Anaconda2\\lib\\site-packages\\ipykernel\\__main__.py:1: UserWarning: Boolean Series key will be reindexed to match DataFrame index.\n",
      "  if __name__ == '__main__':\n"
     ]
    },
    {
     "data": {
      "text/plain": [
       "'(8:28) (No Huddle) C.Palmer pass short right to J.Brown to DET 32 for no gain (D.Slay).'"
      ]
     },
     "execution_count": 35,
     "metadata": {},
     "output_type": "execute_result"
    }
   ],
   "source": [
    "plays[plays['gameId'] == gameId][plays['playId'] == playId].playDescription.iloc[0]\n"
   ]
  },
  {
   "cell_type": "code",
   "execution_count": 202,
   "metadata": {
    "collapsed": false
   },
   "outputs": [
    {
     "data": {
      "image/png": "[encoded data removed]",
      "text/plain": [
       "<Figure size 432x288 with 1 Axes>"
      ]
     },
     "metadata": {
      "needs_background": "light"
     },
     "output_type": "display_data"
    },
    {
     "data": {
      "text/plain": [
       "<Figure size 432x288 with 0 Axes>"
      ]
     },
     "metadata": {},
     "output_type": "display_data"
    }
   ],
   "source": [
    "import matplotlib.pyplot as plt\n",
    "import matplotlib.animation as anim\n",
    "\n",
    "fig = plt.figure()\n",
    "\n",
    "x=[20,23,25,27,29,31]\n",
    "y=[10,12,14,16,17,19]\n",
    "t=[2,9,1,4,3,9]\n",
    "\n",
    "#create index list for frames, i.e. how many cycles each frame will be displayed\n",
    "frame_t = []\n",
    "for i, item in enumerate(t):\n",
    "    frame_t.extend([i] * item)\n",
    "\n",
    "def init():\n",
    "    fig.clear()\n",
    "\n",
    "#animation function\n",
    "def animate(i): \n",
    "    #prevent autoscaling of figure\n",
    "    plt.xlim(15, 35)\n",
    "    plt.ylim( 5, 25)\n",
    "    #set new point\n",
    "    plt.scatter(x[i], y[i], c = \"b\")\n",
    "\n",
    "#animate scatter plot\n",
    "ani = anim.FuncAnimation(fig, animate, init_func = init, \n",
    "                         frames = frame_t, interval = 100, repeat = True)\n",
    "plt.show()"
   ]
  },
  {
   "cell_type": "code",
   "execution_count": 154,
   "metadata": {
    "collapsed": true
   },
   "outputs": [],
   "source": [
    "x_train = np.random.random((100, 100, 100, 3))"
   ]
  },
  {
   "cell_type": "code",
   "execution_count": 156,
   "metadata": {
    "collapsed": true
   },
   "outputs": [],
   "source": [
    "data_dim = 16\n",
    "timesteps = 8\n",
    "num_classes = 10\n",
    "\n",
    "# Generate dummy training data\n",
    "x_train = np.random.random((1000, timesteps, data_dim))"
   ]
  },
  {
   "cell_type": "code",
   "execution_count": 158,
   "metadata": {
    "collapsed": false
   },
   "outputs": [
    {
     "data": {
      "text/plain": [
       "array([[0.80051329, 0.02571727, 0.14219863, 0.28177066, 0.00661955,\n",
       "        0.98167259, 0.0944362 , 0.33290639, 0.87748944, 0.86850823,\n",
       "        0.87886567, 0.54622169, 0.82974665, 0.84790593, 0.86349272,\n",
       "        0.54845553],\n",
       "       [0.56419187, 0.55708708, 0.84328071, 0.63650025, 0.54324682,\n",
       "        0.52204757, 0.9369867 , 0.9198263 , 0.38810399, 0.07686799,\n",
       "        0.137612  , 0.89980611, 0.08571438, 0.2880288 , 0.33269349,\n",
       "        0.41104573],\n",
       "       [0.08512885, 0.61350209, 0.58419608, 0.13091017, 0.23858591,\n",
       "        0.83656949, 0.10703773, 0.61762091, 0.68145569, 0.83665685,\n",
       "        0.54530578, 0.26784485, 0.61863639, 0.72357497, 0.17004471,\n",
       "        0.7060275 ],\n",
       "       [0.64554133, 0.86603908, 0.75877492, 0.67517387, 0.86466606,\n",
       "        0.71350063, 0.61921496, 0.37328388, 0.84484796, 0.76046909,\n",
       "        0.52760889, 0.81784476, 0.0070059 , 0.09432457, 0.96650115,\n",
       "        0.70933291],\n",
       "       [0.44276066, 0.12583272, 0.93027134, 0.30874859, 0.46332056,\n",
       "        0.99154441, 0.14250859, 0.10377566, 0.83570171, 0.4366216 ,\n",
       "        0.51791062, 0.23099971, 0.88427495, 0.96374587, 0.73037431,\n",
       "        0.6327146 ],\n",
       "       [0.72907025, 0.55043742, 0.8731203 , 0.97648968, 0.44751878,\n",
       "        0.64768243, 0.27765416, 0.3346878 , 0.83170946, 0.66180686,\n",
       "        0.44430003, 0.13678371, 0.42114336, 0.58265872, 0.82771373,\n",
       "        0.08703613],\n",
       "       [0.3804631 , 0.98028152, 0.27420777, 0.85797652, 0.69862392,\n",
       "        0.10798481, 0.99945814, 0.37849143, 0.16877851, 0.49102643,\n",
       "        0.73158185, 0.63720857, 0.13790953, 0.58728605, 0.89173991,\n",
       "        0.54177112],\n",
       "       [0.69740352, 0.14383702, 0.64036732, 0.01672735, 0.08400131,\n",
       "        0.7143603 , 0.84324881, 0.87987638, 0.60604888, 0.9380006 ,\n",
       "        0.12903725, 0.95239138, 0.9858979 , 0.237604  , 0.61611093,\n",
       "        0.23637753]])"
      ]
     },
     "execution_count": 158,
     "metadata": {},
     "output_type": "execute_result"
    }
   ],
   "source": [
    "x_train[0]"
   ]
  },
  {
   "cell_type": "code",
   "execution_count": null,
   "metadata": {
    "collapsed": true
   },
   "outputs": [],
   "source": []
  }
 ],
 "metadata": {
  "anaconda-cloud": {},
  "kernelspec": {
   "display_name": "Python [Anaconda2]",
   "language": "python",
   "name": "Python [Anaconda2]"
  },
  "language_info": {
   "codemirror_mode": {
    "name": "ipython",
    "version": 2
   },
   "file_extension": ".py",
   "mimetype": "text/x-python",
   "name": "python",
   "nbconvert_exporter": "python",
   "pygments_lexer": "ipython2",
   "version": "2.7.12"
  }
 },
 "nbformat": 4,
 "nbformat_minor": 2
}
